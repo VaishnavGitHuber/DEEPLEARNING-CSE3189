{
 "cells": [
  {
   "cell_type": "markdown",
   "id": "7044c7c6-429e-4962-b52f-24dccdb278b1",
   "metadata": {},
   "source": [
    "### TITLE: MNIST HANDWRITING PREDICTION \n",
    "#### AUTHOR : VAISHNAV KRISHNA P\n",
    "#### LABSHEET01"
   ]
  },
  {
   "cell_type": "code",
   "execution_count": 135,
   "id": "0e4b4065-8401-4929-9d24-af67b08f153f",
   "metadata": {},
   "outputs": [],
   "source": [
    "# Loading the necessory depednecies \n",
    "import numpy as np\n",
    "import matplotlib.pyplot as plt\n",
    "from tensorflow.keras.datasets import mnist\n",
    "from tensorflow.keras import Sequential\n",
    "from tensorflow.keras.layers import Flatten,Dense"
   ]
  },
  {
   "cell_type": "code",
   "execution_count": 78,
   "id": "027c6cc6-0f05-4c44-bf57-d4762816683d",
   "metadata": {},
   "outputs": [],
   "source": [
    "# Loading the datasets \n",
    "(X_train,y_train),(X_test,y_test) = mnist.load_data()"
   ]
  },
  {
   "cell_type": "code",
   "execution_count": 79,
   "id": "323440f9-4cba-4d3f-8a24-6cd91ce4ec43",
   "metadata": {},
   "outputs": [
    {
     "data": {
      "text/plain": [
       "((60000, 28, 28), (10000, 28, 28))"
      ]
     },
     "execution_count": 79,
     "metadata": {},
     "output_type": "execute_result"
    }
   ],
   "source": [
    "# shape of the datasets \n",
    "X_train.shape, X_test.shape"
   ]
  },
  {
   "cell_type": "markdown",
   "id": "c1e616cd-2410-4a98-a301-096e56128d40",
   "metadata": {},
   "source": [
    "Note: \n",
    "- we have 10000 records for training & 60000 records for testing model"
   ]
  },
  {
   "cell_type": "code",
   "execution_count": 81,
   "id": "fbde0430-2caa-4b48-9d3d-c57920319de5",
   "metadata": {},
   "outputs": [
    {
     "name": "stdout",
     "output_type": "stream",
     "text": [
      "[[  0   0   0   0   0   0   0   0   0   0   0   0   0   0   0   0   0   0\n",
      "    0   0   0   0   0   0   0   0   0   0]\n",
      " [  0   0   0   0   0   0   0   0   0   0   0   0   0   0   0   0   0   0\n",
      "    0   0   0   0   0   0   0   0   0   0]\n",
      " [  0   0   0   0   0   0   0   0   0   0   0   0   0   0   0   0   0   0\n",
      "    0   0   0   0   0   0   0   0   0   0]\n",
      " [  0   0   0   0   0   0   0   0   0   0   0   0   0   0   0   0   0   0\n",
      "    0   0   0   0   0   0   0   0   0   0]\n",
      " [  0   0   0   0   0   0   0   0   0   0   0   0   0   0   0   0   0   0\n",
      "    0   0   0   0   0   0   0   0   0   0]\n",
      " [  0   0   0   0   0   0   0   0   0   0   0   0   3  18  18  18 126 136\n",
      "  175  26 166 255 247 127   0   0   0   0]\n",
      " [  0   0   0   0   0   0   0   0  30  36  94 154 170 253 253 253 253 253\n",
      "  225 172 253 242 195  64   0   0   0   0]\n",
      " [  0   0   0   0   0   0   0  49 238 253 253 253 253 253 253 253 253 251\n",
      "   93  82  82  56  39   0   0   0   0   0]\n",
      " [  0   0   0   0   0   0   0  18 219 253 253 253 253 253 198 182 247 241\n",
      "    0   0   0   0   0   0   0   0   0   0]\n",
      " [  0   0   0   0   0   0   0   0  80 156 107 253 253 205  11   0  43 154\n",
      "    0   0   0   0   0   0   0   0   0   0]\n",
      " [  0   0   0   0   0   0   0   0   0  14   1 154 253  90   0   0   0   0\n",
      "    0   0   0   0   0   0   0   0   0   0]\n",
      " [  0   0   0   0   0   0   0   0   0   0   0 139 253 190   2   0   0   0\n",
      "    0   0   0   0   0   0   0   0   0   0]\n",
      " [  0   0   0   0   0   0   0   0   0   0   0  11 190 253  70   0   0   0\n",
      "    0   0   0   0   0   0   0   0   0   0]\n",
      " [  0   0   0   0   0   0   0   0   0   0   0   0  35 241 225 160 108   1\n",
      "    0   0   0   0   0   0   0   0   0   0]\n",
      " [  0   0   0   0   0   0   0   0   0   0   0   0   0  81 240 253 253 119\n",
      "   25   0   0   0   0   0   0   0   0   0]\n",
      " [  0   0   0   0   0   0   0   0   0   0   0   0   0   0  45 186 253 253\n",
      "  150  27   0   0   0   0   0   0   0   0]\n",
      " [  0   0   0   0   0   0   0   0   0   0   0   0   0   0   0  16  93 252\n",
      "  253 187   0   0   0   0   0   0   0   0]\n",
      " [  0   0   0   0   0   0   0   0   0   0   0   0   0   0   0   0   0 249\n",
      "  253 249  64   0   0   0   0   0   0   0]\n",
      " [  0   0   0   0   0   0   0   0   0   0   0   0   0   0  46 130 183 253\n",
      "  253 207   2   0   0   0   0   0   0   0]\n",
      " [  0   0   0   0   0   0   0   0   0   0   0   0  39 148 229 253 253 253\n",
      "  250 182   0   0   0   0   0   0   0   0]\n",
      " [  0   0   0   0   0   0   0   0   0   0  24 114 221 253 253 253 253 201\n",
      "   78   0   0   0   0   0   0   0   0   0]\n",
      " [  0   0   0   0   0   0   0   0  23  66 213 253 253 253 253 198  81   2\n",
      "    0   0   0   0   0   0   0   0   0   0]\n",
      " [  0   0   0   0   0   0  18 171 219 253 253 253 253 195  80   9   0   0\n",
      "    0   0   0   0   0   0   0   0   0   0]\n",
      " [  0   0   0   0  55 172 226 253 253 253 253 244 133  11   0   0   0   0\n",
      "    0   0   0   0   0   0   0   0   0   0]\n",
      " [  0   0   0   0 136 253 253 253 212 135 132  16   0   0   0   0   0   0\n",
      "    0   0   0   0   0   0   0   0   0   0]\n",
      " [  0   0   0   0   0   0   0   0   0   0   0   0   0   0   0   0   0   0\n",
      "    0   0   0   0   0   0   0   0   0   0]\n",
      " [  0   0   0   0   0   0   0   0   0   0   0   0   0   0   0   0   0   0\n",
      "    0   0   0   0   0   0   0   0   0   0]\n",
      " [  0   0   0   0   0   0   0   0   0   0   0   0   0   0   0   0   0   0\n",
      "    0   0   0   0   0   0   0   0   0   0]]\n"
     ]
    }
   ],
   "source": [
    "# Printing one of the records as array\n",
    "print(X_train[0])"
   ]
  },
  {
   "cell_type": "code",
   "execution_count": 84,
   "id": "a108811c-82d4-4895-a85b-be66f51fe612",
   "metadata": {},
   "outputs": [
    {
     "name": "stdout",
     "output_type": "stream",
     "text": [
      "(28, 28)\n"
     ]
    }
   ],
   "source": [
    "# shape of the array \n",
    "print(X_train[0].shape)"
   ]
  },
  {
   "cell_type": "code",
   "execution_count": 86,
   "id": "d0a0ceb2-6bdb-47dd-8e0e-1c4be4fd4388",
   "metadata": {},
   "outputs": [
    {
     "name": "stdout",
     "output_type": "stream",
     "text": [
      "Label: 5\n"
     ]
    },
    {
     "data": {
      "image/png": "[encoded data removed]",
      "text/plain": [
       "<Figure size 640x480 with 1 Axes>"
      ]
     },
     "metadata": {},
     "output_type": "display_data"
    }
   ],
   "source": [
    "# printing the array as image \n",
    "plt.imshow(X_train[0])\n",
    "print(f\"Label: {y_train[0]}\")"
   ]
  },
  {
   "cell_type": "markdown",
   "id": "5a521e3f-558a-4e53-b848-74de922cba49",
   "metadata": {},
   "source": [
    "#### NORMALIZE THE ARRAY "
   ]
  },
  {
   "cell_type": "code",
   "execution_count": 89,
   "id": "dc80cbe7-cfdb-4002-ad50-9ce0dbd25fab",
   "metadata": {},
   "outputs": [],
   "source": [
    "# Normalize the data records \n",
    "X_train = X_train/255 \n",
    "X_test = X_test/255 "
   ]
  },
  {
   "cell_type": "code",
   "execution_count": 91,
   "id": "5466d007-f729-41bf-8bd0-8af5d288dfb5",
   "metadata": {},
   "outputs": [
    {
     "name": "stdout",
     "output_type": "stream",
     "text": [
      "[0.         0.         0.         0.         0.         0.\n",
      " 0.         0.         0.31372549 0.61176471 0.41960784 0.99215686\n",
      " 0.99215686 0.80392157 0.04313725 0.         0.16862745 0.60392157\n",
      " 0.         0.         0.         0.         0.         0.\n",
      " 0.         0.         0.         0.        ]\n"
     ]
    }
   ],
   "source": [
    "# After Normalizing the records \n",
    "print(X_train[0][9])"
   ]
  },
  {
   "cell_type": "markdown",
   "id": "4bc796b2-9983-436b-9aa3-3dba1334859a",
   "metadata": {},
   "source": [
    "### BUILD MODEL"
   ]
  },
  {
   "cell_type": "code",
   "execution_count": 195,
   "id": "d2e838b6-22bb-4d03-863c-dc76af7c3522",
   "metadata": {
    "scrolled": true
   },
   "outputs": [],
   "source": [
    "# building the model \n",
    "model = Sequential([\n",
    "    Flatten( input_shape=(28, 28) ),\n",
    "    Dense( 128, activation=\"relu\"),\n",
    "    Dense( 64, activation='relu'),\n",
    "    Dense( 32, activation='relu'),\n",
    "    Dense( 10, activation='softmax')\n",
    "])"
   ]
  },
  {
   "cell_type": "markdown",
   "id": "5ab05be2-2f99-4888-a1a2-32b8543cab62",
   "metadata": {},
   "source": [
    "#### COMPILE THE MODEL"
   ]
  },
  {
   "cell_type": "code",
   "execution_count": 198,
   "id": "8440d357-2a1d-42bd-acae-67605ee86d85",
   "metadata": {},
   "outputs": [],
   "source": [
    "model.compile(\n",
    "    optimizer='adam',\n",
    "    loss='sparse_categorical_crossentropy',\n",
    "    metrics=['accuracy']\n",
    ")"
   ]
  },
  {
   "cell_type": "markdown",
   "id": "fcd5fc3c-c1b0-4680-8a80-a160eed44021",
   "metadata": {},
   "source": [
    "#### FITTING THE MODEL"
   ]
  },
  {
   "cell_type": "code",
   "execution_count": 201,
   "id": "c1ff121e-ff1d-44ca-a26f-f9cf7d11101f",
   "metadata": {},
   "outputs": [
    {
     "name": "stdout",
     "output_type": "stream",
     "text": [
      "Epoch 1/5\n",
      "\u001b[1m1875/1875\u001b[0m \u001b[32m━━━━━━━━━━━━━━━━━━━━\u001b[0m\u001b[37m\u001b[0m \u001b[1m9s\u001b[0m 4ms/step - accuracy: 0.8664 - loss: 0.4404\n",
      "Epoch 2/5\n",
      "\u001b[1m1875/1875\u001b[0m \u001b[32m━━━━━━━━━━━━━━━━━━━━\u001b[0m\u001b[37m\u001b[0m \u001b[1m6s\u001b[0m 3ms/step - accuracy: 0.9667 - loss: 0.1118\n",
      "Epoch 3/5\n",
      "\u001b[1m1875/1875\u001b[0m \u001b[32m━━━━━━━━━━━━━━━━━━━━\u001b[0m\u001b[37m\u001b[0m \u001b[1m6s\u001b[0m 3ms/step - accuracy: 0.9772 - loss: 0.0760\n",
      "Epoch 4/5\n",
      "\u001b[1m1875/1875\u001b[0m \u001b[32m━━━━━━━━━━━━━━━━━━━━\u001b[0m\u001b[37m\u001b[0m \u001b[1m7s\u001b[0m 4ms/step - accuracy: 0.9829 - loss: 0.0550\n",
      "Epoch 5/5\n",
      "\u001b[1m1875/1875\u001b[0m \u001b[32m━━━━━━━━━━━━━━━━━━━━\u001b[0m\u001b[37m\u001b[0m \u001b[1m7s\u001b[0m 3ms/step - accuracy: 0.9857 - loss: 0.0464\n"
     ]
    },
    {
     "data": {
      "text/plain": [
       "<keras.src.callbacks.history.History at 0x13efcd700>"
      ]
     },
     "execution_count": 201,
     "metadata": {},
     "output_type": "execute_result"
    }
   ],
   "source": [
    "model.fit(X_train, y_train, epochs=5)"
   ]
  },
  {
   "cell_type": "code",
   "execution_count": 202,
   "id": "c1a8c7d5-6c44-4881-b301-05e1aaea1e9e",
   "metadata": {},
   "outputs": [
    {
     "data": {
      "text/plain": [
       "[0.9257333278656006,\n",
       " 0.9674833416938782,\n",
       " 0.9763166904449463,\n",
       " 0.9816166758537292,\n",
       " 0.984416663646698]"
      ]
     },
     "execution_count": 202,
     "metadata": {},
     "output_type": "execute_result"
    }
   ],
   "source": [
    "# Accuracies of 5 epochs\n",
    "model.history.history['accuracy']"
   ]
  },
  {
   "cell_type": "code",
   "execution_count": 203,
   "id": "79673faa-0aea-4799-a588-55a8ceac54b3",
   "metadata": {},
   "outputs": [
    {
     "data": {
      "image/png": "[encoded data removed]",
      "text/plain": [
       "<Figure size 640x480 with 1 Axes>"
      ]
     },
     "metadata": {},
     "output_type": "display_data"
    }
   ],
   "source": [
    "# visualize this using a line plot \n",
    "plt.title(\"Acccuracy in each epochs\")\n",
    "plt.plot(np.arange(1,6), model.history.history['accuracy'], color='r')\n",
    "plt.show()"
   ]
  },
  {
   "cell_type": "markdown",
   "id": "8cb5133a-f3ee-4fa0-badc-63f1ef7f9cd7",
   "metadata": {},
   "source": [
    "#### EVALUATION"
   ]
  },
  {
   "cell_type": "code",
   "execution_count": 205,
   "id": "cad73d35-d61a-4a6a-a294-b52214d956d5",
   "metadata": {},
   "outputs": [
    {
     "name": "stdout",
     "output_type": "stream",
     "text": [
      "\u001b[1m313/313\u001b[0m \u001b[32m━━━━━━━━━━━━━━━━━━━━\u001b[0m\u001b[37m\u001b[0m \u001b[1m1s\u001b[0m 2ms/step - accuracy: 0.9720 - loss: 0.0901\n"
     ]
    }
   ],
   "source": [
    "# Model accuracy and model loss\n",
    "model_loss, model_accuracy = model.evaluate(X_test,y_test)"
   ]
  },
  {
   "cell_type": "code",
   "execution_count": 206,
   "id": "11ca827e-83b6-4a55-8c6b-7e912e22f388",
   "metadata": {},
   "outputs": [
    {
     "name": "stdout",
     "output_type": "stream",
     "text": [
      "Model accuracy over test dataset: 0.9760000109672546 and loss: 0.07986747473478317\n"
     ]
    }
   ],
   "source": [
    "print(f\"Model accuracy over test dataset: {model_accuracy} and loss: {model_loss}\")"
   ]
  },
  {
   "cell_type": "markdown",
   "id": "dd38d4ee-df91-475e-9174-f67b7ce7fba9",
   "metadata": {},
   "source": [
    "#### TESTING THE MODEL "
   ]
  },
  {
   "cell_type": "code",
   "execution_count": 247,
   "id": "c959952d-0ecd-4601-bff5-dbcbdfea8d64",
   "metadata": {},
   "outputs": [
    {
     "name": "stdout",
     "output_type": "stream",
     "text": [
      "6\n"
     ]
    },
    {
     "data": {
      "image/png": "[encoded data removed]",
      "text/plain": [
       "<Figure size 640x480 with 1 Axes>"
      ]
     },
     "metadata": {},
     "output_type": "display_data"
    }
   ],
   "source": [
    "# testing with random one image \n",
    "plt.imshow(X_test[11])\n",
    "print(y_test[11])"
   ]
  },
  {
   "cell_type": "code",
   "execution_count": 249,
   "id": "7590a6fe-51c4-4aea-bf13-c2929822225b",
   "metadata": {},
   "outputs": [
    {
     "name": "stdout",
     "output_type": "stream",
     "text": [
      "\u001b[1m1/1\u001b[0m \u001b[32m━━━━━━━━━━━━━━━━━━━━\u001b[0m\u001b[37m\u001b[0m \u001b[1m0s\u001b[0m 51ms/step\n"
     ]
    }
   ],
   "source": [
    "# predicting using the model \n",
    "prediction_array = model.predict(X_test[11].reshape(1, 28, 28))"
   ]
  },
  {
   "cell_type": "code",
   "execution_count": 251,
   "id": "85b5ae1f-9290-48bb-86b7-43adfd158a09",
   "metadata": {},
   "outputs": [],
   "source": [
    "model_label = prediction_array.argmax()"
   ]
  },
  {
   "cell_type": "code",
   "execution_count": 253,
   "id": "2538dfea-62aa-4971-939d-8f3f7942314c",
   "metadata": {},
   "outputs": [
    {
     "name": "stdout",
     "output_type": "stream",
     "text": [
      "Digit in Image predicted as: 6\n"
     ]
    }
   ],
   "source": [
    "print(f\"Digit in Image predicted as: {model_label}\")"
   ]
  }
 ],
 "metadata": {
  "kernelspec": {
   "display_name": "Python [conda env:base] *",
   "language": "python",
   "name": "conda-base-py"
  },
  "language_info": {
   "codemirror_mode": {
    "name": "ipython",
    "version": 3
   },
   "file_extension": ".py",
   "mimetype": "text/x-python",
   "name": "python",
   "nbconvert_exporter": "python",
   "pygments_lexer": "ipython3",
   "version": "3.12.7"
  }
 },
 "nbformat": 4,
 "nbformat_minor": 5
}
